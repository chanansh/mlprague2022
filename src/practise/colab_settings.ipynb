{
  "cells": [
    {
      "cell_type": "code",
      "source": [
        "!wget -P /content https://github.com/dataclair-ai/mlprague2022/archive/refs/heads/master.zip\n",
        "!unzip -o /content/master.zip -d /content\n",
        "!rm /content/master.zip"
      ],
      "metadata": {
        "id": "TRIF1wakQo3T"
      },
      "execution_count": null,
      "outputs": []
    },
    {
      "cell_type": "code",
      "source": [
        "!pip install tf-agents"
      ],
      "metadata": {
        "id": "_Dn8vYBgQrT8"
      },
      "execution_count": null,
      "outputs": []
    },
    {
      "cell_type": "code",
      "execution_count": null,
      "metadata": {
        "id": "Phd9icg8QoOw"
      },
      "outputs": [],
      "source": [
        "import os\n",
        "\n",
        "os.chdir(\"/content/mlprague2022-master\")"
      ]
    },
    {
      "cell_type": "code",
      "source": [
        "!make blob"
      ],
      "metadata": {
        "id": "m2Wamc8uQuRw"
      },
      "execution_count": null,
      "outputs": []
    }
  ],
  "metadata": {
    "interpreter": {
      "hash": "c4d660e557e8b16ee4db5b68978562a6a0421a7ea0c415df0b2c7083e8bde969"
    },
    "kernelspec": {
      "display_name": "Python 3.8.10 ('mlprague')",
      "language": "python",
      "name": "python3"
    },
    "language_info": {
      "codemirror_mode": {
        "name": "ipython",
        "version": 3
      },
      "file_extension": ".py",
      "mimetype": "text/x-python",
      "name": "python",
      "nbconvert_exporter": "python",
      "pygments_lexer": "ipython3",
      "version": "3.8.10"
    },
    "orig_nbformat": 4,
    "colab": {
      "name": "colab_settings.ipynb",
      "provenance": []
    }
  },
  "nbformat": 4,
  "nbformat_minor": 0
}