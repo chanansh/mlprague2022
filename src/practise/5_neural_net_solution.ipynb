{
 "cells": [
  {
   "cell_type": "code",
   "execution_count": null,
   "metadata": {},
   "outputs": [],
   "source": [
    "import os\n",
    "\n",
    "os.chdir(\"../..\")"
   ]
  },
  {
   "cell_type": "code",
   "execution_count": null,
   "metadata": {},
   "outputs": [],
   "source": [
    "import matplotlib.pyplot as plt\n",
    "import pandas as pd\n",
    "import tensorflow as tf\n",
    "from tensorflow.keras.layers import Dense\n",
    "from tensorflow.keras.models import clone_model\n",
    "from typing import Tuple\n",
    "\n",
    "from tf_agents.bandits.agents.lin_ucb_agent import LinearUCBAgent\n",
    "from tf_agents.bandits.agents.neural_linucb_agent import NeuralLinUCBAgent\n",
    "from tf_agents.drivers.dynamic_step_driver import DynamicStepDriver\n",
    "from tf_agents.networks import network\n",
    "from tf_agents.replay_buffers.tf_uniform_replay_buffer import TFUniformReplayBuffer\n",
    "from tf_agents.specs import BoundedTensorSpec, TensorSpec\n",
    "\n",
    "\n",
    "from src.practise.utils import predict\n",
    "from src.practise.solution_metrics import RMSEMetric\n",
    "from src.practise.solution_environment import SimpleEnvironment"
   ]
  },
  {
   "cell_type": "markdown",
   "metadata": {},
   "source": [
    "## Data prep"
   ]
  },
  {
   "cell_type": "code",
   "execution_count": null,
   "metadata": {},
   "outputs": [],
   "source": [
    "BATCHSIZE = 1000\n",
    "REPEATS = 2\n",
    "DS_FOLDER = \"data/4_dataset/\"\n",
    "\n",
    "context = pd.read_csv(f\"{DS_FOLDER}user_context.csv\")\n",
    "ratings = pd.read_csv(\"data/4_dataset/reward_per_book.csv\")\n",
    "actions = ratings.columns[1:]\n",
    "\n",
    "train_df = context.merge(ratings, how=\"left\", on=\"user_id\")\n",
    "\n",
    "train_ds = tf.data.Dataset.from_tensor_slices(\n",
    "    (\n",
    "        train_df.drop(ratings.columns, axis=1),\n",
    "        train_df[actions].astype(\"int32\"),\n",
    "    )\n",
    ")\n",
    "\n",
    "NUM_EPOCHS = int(train_df.shape[0] / BATCHSIZE * REPEATS)"
   ]
  },
  {
   "cell_type": "code",
   "execution_count": null,
   "metadata": {},
   "outputs": [],
   "source": [
    "action_spec = BoundedTensorSpec(\n",
    "    shape=(), dtype=tf.int32, minimum=0, maximum=len(actions) - 1, name=\"action\"\n",
    ")\n",
    "\n",
    "# weights = tf.constant([1, 1, 1, 1, 1, 1], dtype=tf.float32)\n",
    "weights = tf.constant([100, 100, 110, 100, 105, 1], dtype=tf.float32)"
   ]
  },
  {
   "cell_type": "markdown",
   "metadata": {},
   "source": [
    "## Elements of TF-Agents"
   ]
  },
  {
   "cell_type": "code",
   "execution_count": null,
   "metadata": {},
   "outputs": [],
   "source": [
    "env = SimpleEnvironment(\n",
    "    dataset=train_ds.repeat(REPEATS),\n",
    "    batch_size=BATCHSIZE,\n",
    "    action_spec=action_spec,\n",
    "    weights=weights,\n",
    ")"
   ]
  },
  {
   "cell_type": "code",
   "execution_count": null,
   "metadata": {},
   "outputs": [],
   "source": [
    "class EncodingNetwork(network.Network):\n",
    "    \"\"\"\n",
    "    This is a wrapper of keras.Model for TF-Agents\n",
    "    \"\"\"\n",
    "\n",
    "    def __init__(self, model: tf.keras.Model, input_spec=None, name=None):\n",
    "        \"\"\"\n",
    "        Args:\n",
    "            action: tf.keras.Model\n",
    "                can be Sequential or Functional, but !NOT! stateful (recurrent)\n",
    "            input_spec: TensorSpec\n",
    "                TensorSpec representing the input observations to the first layer\n",
    "            name: str\n",
    "                name of the network\n",
    "        \"\"\"\n",
    "        super(EncodingNetwork, self).__init__(\n",
    "            input_tensor_spec=input_spec, state_spec=(), name=name\n",
    "        )\n",
    "        self.model = model\n",
    "\n",
    "    def copy(self, **kwargs) -> \"EncodingNetwork\":\n",
    "        \"\"\"Make a copy of a `Network` instance.\n",
    "        !!The new instance will not share weights with the original - but it will start with the same weights!!\n",
    "\n",
    "        Args:\n",
    "            **kwargs:\n",
    "                args to override when recreating this network, commonly overridden args include 'name'\n",
    "\n",
    "        Returns:\n",
    "            copy of this network\n",
    "\n",
    "        Raises:\n",
    "            RuntimeError:\n",
    "                If not `tf.executing_eagerly()`; as this is required to be able to create deep copies of layers in `layers`\n",
    "        \"\"\"\n",
    "        new_kwargs = dict(self._saved_kwargs, **kwargs)\n",
    "        if \"model\" not in kwargs:\n",
    "            new_model = clone_model(self.model)\n",
    "            new_kwargs[\"model\"] = new_model\n",
    "        return type(self)(**new_kwargs)\n",
    "\n",
    "    def call(self, inputs, **kwargs) -> Tuple[tf.Tensor, Tuple]:\n",
    "        \"\"\"Forward pass through the network\n",
    "\n",
    "        Args:\n",
    "          inputs: tf.Tensor\n",
    "              data to be passed through the network\n",
    "          **kwargs:\n",
    "              kwargs to pass to the model.__call__()\n",
    "\n",
    "        Returns:\n",
    "          tuple(tf.Tensor, ())\n",
    "            tuple of two elements:\n",
    "              outpout of the network,\n",
    "              empty tuple\n",
    "        \"\"\"\n",
    "        # Only Networks are expected to know about step_type, network_state; not Keras models.\n",
    "        model_kwargs = kwargs.copy()\n",
    "        model_kwargs.pop(\"step_type\", None)\n",
    "        model_kwargs.pop(\"network_state\", None)\n",
    "        return self.model(inputs, **model_kwargs), ()"
   ]
  },
  {
   "cell_type": "code",
   "execution_count": null,
   "metadata": {},
   "outputs": [],
   "source": [
    "model = tf.keras.models.Sequential()\n",
    "\n",
    "model.add(Dense(64, \"tanh\"))\n",
    "model.add(Dense(32, \"tanh\"))\n",
    "model.add(Dense(16, \"tanh\"))\n",
    "\n",
    "net = EncodingNetwork(model, env.time_step_spec().observation)\n",
    "\n",
    "agent = NeuralLinUCBAgent(\n",
    "    time_step_spec=env.time_step_spec(),\n",
    "    action_spec=env.action_spec(),\n",
    "    encoding_network=net,\n",
    "    encoding_network_num_train_steps=47,\n",
    "    encoding_dim=net.model.layers[-1].units,\n",
    "    optimizer=tf.keras.optimizers.Adam(),\n",
    "    epsilon_greedy=0.95,\n",
    "    emit_policy_info=(\n",
    "        \"predicted_rewards_mean\",\n",
    "        \"predicted_rewards_optimistic\",\n",
    "    ),\n",
    ")"
   ]
  },
  {
   "cell_type": "code",
   "execution_count": null,
   "metadata": {},
   "outputs": [],
   "source": [
    "replay_buffer = TFUniformReplayBuffer(\n",
    "    data_spec=agent.policy.trajectory_spec,\n",
    "    batch_size=BATCHSIZE,\n",
    "    max_length=5,\n",
    ")\n",
    "\n",
    "rmse = RMSEMetric(env.action_spec())\n",
    "\n",
    "replay_observer = [replay_buffer.add_batch, rmse]\n",
    "\n",
    "driver = DynamicStepDriver(\n",
    "    env=env,\n",
    "    policy=agent.collect_policy,\n",
    "    observers=replay_observer,\n",
    ")"
   ]
  },
  {
   "cell_type": "markdown",
   "metadata": {},
   "source": [
    "## Training loop"
   ]
  },
  {
   "cell_type": "code",
   "execution_count": null,
   "metadata": {},
   "outputs": [],
   "source": [
    "rmse_values = []\n",
    "for i in range(NUM_EPOCHS):\n",
    "\n",
    "    print(f\"\\rEpoch: {i+1}/{NUM_EPOCHS}\", end=\"\")\n",
    "\n",
    "    # environment - agent interactions\n",
    "    replay_buffer.clear()\n",
    "    _ = driver.run()\n",
    "    rmse_values.append(rmse.result().numpy())\n",
    "\n",
    "    # collect data and train\n",
    "    experience = replay_buffer.as_dataset(\n",
    "        sample_batch_size=BATCHSIZE, num_steps=1, single_deterministic_pass=True\n",
    "    )\n",
    "    for t in experience:\n",
    "        _ = agent.train(t[0])"
   ]
  },
  {
   "cell_type": "code",
   "execution_count": null,
   "metadata": {},
   "outputs": [],
   "source": [
    "fig, axes = plt.subplots(2, 3, figsize=(30, 10))\n",
    "fig.suptitle(\"RMSE value by action\")\n",
    "for i, ax in enumerate(axes.flatten()):\n",
    "    vals = [r[i] for r in rmse_values]\n",
    "    ax.plot(vals)\n",
    "    ax.hlines(tf.math.reduce_mean(vals), xmin=0, xmax=NUM_EPOCHS, color=\"red\")\n",
    "    ax.title.set_text(actions[i])"
   ]
  },
  {
   "cell_type": "markdown",
   "metadata": {},
   "source": [
    "## Predict"
   ]
  },
  {
   "cell_type": "code",
   "execution_count": null,
   "metadata": {},
   "outputs": [],
   "source": [
    "scored_ds = train_ds.batch(100).map(lambda x, y: predict(x, agent, env))\n",
    "preds = list(scored_ds)\n",
    "\n",
    "acts = tf.concat([i.action for i in preds], axis=0).numpy()\n",
    "\n",
    "scored_df = train_df.assign(\n",
    "    pred=acts,\n",
    ")\n",
    "\n",
    "score_rat = scored_df[actions.values]\n",
    "score_rat.columns = range(score_rat.shape[1])\n",
    "\n",
    "scored_df = scored_df.assign(rating=score_rat.idxmax(axis=1).values)"
   ]
  },
  {
   "cell_type": "code",
   "execution_count": null,
   "metadata": {},
   "outputs": [],
   "source": [
    "# accuracy\n",
    "(scored_df.rating == scored_df.pred).mean()"
   ]
  },
  {
   "cell_type": "code",
   "execution_count": null,
   "metadata": {},
   "outputs": [],
   "source": [
    "# confusion matrix\n",
    "confmat = (\n",
    "    scored_df.groupby([\"rating\", \"pred\"], as_index=False)\n",
    "    .user_id.count()\n",
    "    .pivot_table(index=\"rating\", columns=\"pred\", values=\"user_id\", fill_value=0)\n",
    ")\n",
    "confmat"
   ]
  },
  {
   "cell_type": "code",
   "execution_count": null,
   "metadata": {},
   "outputs": [],
   "source": [
    "# close rates\n",
    "confmat.values.diagonal() / confmat.sum()"
   ]
  }
 ],
 "metadata": {
  "interpreter": {
   "hash": "c4d660e557e8b16ee4db5b68978562a6a0421a7ea0c415df0b2c7083e8bde969"
  },
  "kernelspec": {
   "display_name": "Python 3.8.10 ('mlprague')",
   "language": "python",
   "name": "python3"
  },
  "language_info": {
   "codemirror_mode": {
    "name": "ipython",
    "version": 3
   },
   "file_extension": ".py",
   "mimetype": "text/x-python",
   "name": "python",
   "nbconvert_exporter": "python",
   "pygments_lexer": "ipython3",
   "version": "3.8.10"
  },
  "orig_nbformat": 4
 },
 "nbformat": 4,
 "nbformat_minor": 2
}
