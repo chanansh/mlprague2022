{
 "cells": [
  {
   "cell_type": "code",
   "execution_count": null,
   "metadata": {
    "execution": {
     "iopub.execute_input": "2022-05-08T18:45:36.476523Z",
     "iopub.status.busy": "2022-05-08T18:45:36.476296Z",
     "iopub.status.idle": "2022-05-08T18:45:37.767464Z",
     "shell.execute_reply": "2022-05-08T18:45:37.766177Z"
    }
   },
   "outputs": [],
   "source": [
    "import os\n",
    "\n",
    "import matplotlib.pyplot as plt\n",
    "import numpy as np\n",
    "import pandas as pd\n",
    "from sklearn.ensemble import RandomForestRegressor\n",
    "from sklearn.metrics import mean_squared_error\n",
    "from sklearn.model_selection import train_test_split\n",
    "\n",
    "# move wd to the project root\n",
    "os.chdir(\"../../\")\n",
    "\n",
    "PRIM_FOLDER = \"data/2_primary/\"\n",
    "FEAT_FOLDER = \"data/3_feature/\"\n",
    "\n",
    "os.makedirs(FEAT_FOLDER, exist_ok=True)"
   ]
  },
  {
   "cell_type": "code",
   "execution_count": null,
   "metadata": {
    "execution": {
     "iopub.execute_input": "2022-05-08T18:45:37.771447Z",
     "iopub.status.busy": "2022-05-08T18:45:37.770763Z",
     "iopub.status.idle": "2022-05-08T18:45:38.014994Z",
     "shell.execute_reply": "2022-05-08T18:45:38.013782Z"
    }
   },
   "outputs": [],
   "source": [
    "books = pd.read_csv(f\"{PRIM_FOLDER}books.csv\")\n",
    "ratings = pd.read_csv(f\"{PRIM_FOLDER}ratings.csv\")"
   ]
  },
  {
   "cell_type": "markdown",
   "metadata": {},
   "source": [
    "## Prepare book tag features\n",
    "----"
   ]
  },
  {
   "cell_type": "code",
   "execution_count": null,
   "metadata": {
    "execution": {
     "iopub.execute_input": "2022-05-08T18:45:38.018723Z",
     "iopub.status.busy": "2022-05-08T18:45:38.018282Z",
     "iopub.status.idle": "2022-05-08T18:45:38.147223Z",
     "shell.execute_reply": "2022-05-08T18:45:38.145858Z"
    }
   },
   "outputs": [],
   "source": [
    "books.tags = books.tags.apply(lambda x: x.split(\",\"))\n",
    "books"
   ]
  },
  {
   "cell_type": "markdown",
   "metadata": {},
   "source": [
    "#### Check frequency of tags"
   ]
  },
  {
   "cell_type": "code",
   "execution_count": null,
   "metadata": {
    "execution": {
     "iopub.execute_input": "2022-05-08T18:45:38.171932Z",
     "iopub.status.busy": "2022-05-08T18:45:38.171323Z",
     "iopub.status.idle": "2022-05-08T18:45:38.290824Z",
     "shell.execute_reply": "2022-05-08T18:45:38.288025Z"
    }
   },
   "outputs": [],
   "source": [
    "tag_cnt = books.loc[:, [\"isbn\", \"tags\"]].explode(\"tags\").value_counts(\"tags\")\n",
    "\n",
    "tag_cnt"
   ]
  },
  {
   "cell_type": "code",
   "execution_count": null,
   "metadata": {
    "execution": {
     "iopub.execute_input": "2022-05-08T18:45:38.296067Z",
     "iopub.status.busy": "2022-05-08T18:45:38.295476Z",
     "iopub.status.idle": "2022-05-08T18:45:38.573024Z",
     "shell.execute_reply": "2022-05-08T18:45:38.572008Z"
    }
   },
   "outputs": [],
   "source": [
    "plt.scatter(x=np.arange(tag_cnt.shape[0]), y=tag_cnt / books.shape[0])"
   ]
  },
  {
   "cell_type": "markdown",
   "metadata": {},
   "source": [
    "#### Select subset of frequent tags"
   ]
  },
  {
   "cell_type": "code",
   "execution_count": null,
   "metadata": {
    "execution": {
     "iopub.execute_input": "2022-05-08T18:45:38.578354Z",
     "iopub.status.busy": "2022-05-08T18:45:38.577140Z",
     "iopub.status.idle": "2022-05-08T18:45:43.826999Z",
     "shell.execute_reply": "2022-05-08T18:45:43.826282Z"
    }
   },
   "outputs": [],
   "source": [
    "top_tags = tag_cnt[:50].index\n",
    "\n",
    "tags = pd.get_dummies(books.tags.explode()).groupby(level=0).sum()\n",
    "\n",
    "tags = tags.loc[:, top_tags]\n",
    "tags.describe()"
   ]
  },
  {
   "cell_type": "markdown",
   "metadata": {},
   "source": [
    "#### Check how many tags we have for each book"
   ]
  },
  {
   "cell_type": "code",
   "execution_count": null,
   "metadata": {
    "execution": {
     "iopub.execute_input": "2022-05-08T18:45:43.829832Z",
     "iopub.status.busy": "2022-05-08T18:45:43.829590Z",
     "iopub.status.idle": "2022-05-08T18:45:43.989665Z",
     "shell.execute_reply": "2022-05-08T18:45:43.988596Z"
    }
   },
   "outputs": [],
   "source": [
    "tags_per_book = tags.sum(axis=1)\n",
    "tags_per_book.hist()\n",
    "tags_per_book.describe()"
   ]
  },
  {
   "cell_type": "code",
   "execution_count": null,
   "metadata": {
    "execution": {
     "iopub.execute_input": "2022-05-08T18:45:43.993017Z",
     "iopub.status.busy": "2022-05-08T18:45:43.992673Z",
     "iopub.status.idle": "2022-05-08T18:45:43.999459Z",
     "shell.execute_reply": "2022-05-08T18:45:43.998632Z"
    }
   },
   "outputs": [],
   "source": [
    "# books with no tag\n",
    "(tags_per_book == 0).sum()"
   ]
  },
  {
   "cell_type": "markdown",
   "metadata": {},
   "source": [
    "#### Merge tags back to the book table"
   ]
  },
  {
   "cell_type": "code",
   "execution_count": null,
   "metadata": {
    "execution": {
     "iopub.execute_input": "2022-05-08T18:45:44.003284Z",
     "iopub.status.busy": "2022-05-08T18:45:44.002480Z",
     "iopub.status.idle": "2022-05-08T18:45:44.070830Z",
     "shell.execute_reply": "2022-05-08T18:45:44.070084Z"
    }
   },
   "outputs": [],
   "source": [
    "# let's ensure each book has at least one tag\n",
    "# this will be helpful later when we prepare user features\n",
    "tags = tags.assign(other=(tags_per_book == 0).astype(int))\n",
    "\n",
    "book_tags = pd.concat([books.drop(\"price\", axis=1), tags], axis=1)\n",
    "\n",
    "book_tags = book_tags.drop(\n",
    "    [\"book_title\", \"book_author\", \"tags\"], axis=1\n",
    ").drop_duplicates()\n",
    "\n",
    "book_tags"
   ]
  },
  {
   "cell_type": "code",
   "execution_count": null,
   "metadata": {
    "execution": {
     "iopub.execute_input": "2022-05-08T18:45:44.074477Z",
     "iopub.status.busy": "2022-05-08T18:45:44.073301Z",
     "iopub.status.idle": "2022-05-08T18:45:44.268219Z",
     "shell.execute_reply": "2022-05-08T18:45:44.265827Z"
    }
   },
   "outputs": [],
   "source": [
    "book_tags.to_csv(f\"{FEAT_FOLDER}book_tags.csv\", index=False)"
   ]
  },
  {
   "cell_type": "markdown",
   "metadata": {},
   "source": [
    "# Prepare frequent book feature\n",
    "----"
   ]
  },
  {
   "cell_type": "code",
   "execution_count": null,
   "metadata": {
    "execution": {
     "iopub.execute_input": "2022-05-08T18:45:44.272892Z",
     "iopub.status.busy": "2022-05-08T18:45:44.272359Z",
     "iopub.status.idle": "2022-05-08T18:45:44.345740Z",
     "shell.execute_reply": "2022-05-08T18:45:44.344872Z"
    }
   },
   "outputs": [],
   "source": [
    "freq_isbn = ratings.value_counts(\"isbn\").reset_index(name=\"freq\").head(5)\n",
    "freq_isbn"
   ]
  },
  {
   "cell_type": "code",
   "execution_count": null,
   "metadata": {
    "execution": {
     "iopub.execute_input": "2022-05-08T18:45:44.349896Z",
     "iopub.status.busy": "2022-05-08T18:45:44.348988Z",
     "iopub.status.idle": "2022-05-08T18:45:44.355988Z",
     "shell.execute_reply": "2022-05-08T18:45:44.354787Z"
    }
   },
   "outputs": [],
   "source": [
    "# how many ratings (%) are for the top 20 books?\n",
    "freq_isbn.freq.sum() / ratings.shape[0]"
   ]
  },
  {
   "cell_type": "code",
   "execution_count": null,
   "metadata": {
    "execution": {
     "iopub.execute_input": "2022-05-08T18:45:44.359888Z",
     "iopub.status.busy": "2022-05-08T18:45:44.359211Z",
     "iopub.status.idle": "2022-05-08T18:45:44.377011Z",
     "shell.execute_reply": "2022-05-08T18:45:44.375800Z"
    }
   },
   "outputs": [],
   "source": [
    "books_freq = books.assign(frequent=books.isbn.isin(freq_isbn.isbn)).loc[\n",
    "    :, [\"isbn\", \"frequent\"]\n",
    "]\n",
    "books_freq"
   ]
  },
  {
   "cell_type": "code",
   "execution_count": null,
   "metadata": {
    "execution": {
     "iopub.execute_input": "2022-05-08T18:45:44.380314Z",
     "iopub.status.busy": "2022-05-08T18:45:44.380038Z",
     "iopub.status.idle": "2022-05-08T18:45:44.415748Z",
     "shell.execute_reply": "2022-05-08T18:45:44.415005Z"
    }
   },
   "outputs": [],
   "source": [
    "books_freq.to_csv(f\"{FEAT_FOLDER}book_freq.csv\", index=False)"
   ]
  },
  {
   "cell_type": "markdown",
   "metadata": {},
   "source": [
    "# Prepare book price feature\n",
    "----"
   ]
  },
  {
   "cell_type": "code",
   "execution_count": null,
   "metadata": {
    "execution": {
     "iopub.execute_input": "2022-05-08T18:45:44.418682Z",
     "iopub.status.busy": "2022-05-08T18:45:44.418463Z",
     "iopub.status.idle": "2022-05-08T18:45:44.430362Z",
     "shell.execute_reply": "2022-05-08T18:45:44.429604Z"
    }
   },
   "outputs": [],
   "source": [
    "print(\"share of NA prices: \" + str(books.price.isna().sum() / books.shape[0]))\n",
    "books.price.describe()"
   ]
  },
  {
   "cell_type": "code",
   "execution_count": null,
   "metadata": {
    "execution": {
     "iopub.execute_input": "2022-05-08T18:45:44.434183Z",
     "iopub.status.busy": "2022-05-08T18:45:44.433674Z",
     "iopub.status.idle": "2022-05-08T18:45:44.605120Z",
     "shell.execute_reply": "2022-05-08T18:45:44.604329Z"
    }
   },
   "outputs": [],
   "source": [
    "plt.scatter(np.arange(books.shape[0]), books.price.sort_values())"
   ]
  },
  {
   "cell_type": "markdown",
   "metadata": {},
   "source": [
    "#### Let's build a model to imput the NaNs"
   ]
  },
  {
   "cell_type": "code",
   "execution_count": null,
   "metadata": {
    "execution": {
     "iopub.execute_input": "2022-05-08T18:45:44.608456Z",
     "iopub.status.busy": "2022-05-08T18:45:44.607669Z",
     "iopub.status.idle": "2022-05-08T18:45:44.643369Z",
     "shell.execute_reply": "2022-05-08T18:45:44.642516Z"
    }
   },
   "outputs": [],
   "source": [
    "book_price = book_tags.merge(books[[\"isbn\", \"price\"]], how=\"inner\", on=\"isbn\")\n",
    "book_price"
   ]
  },
  {
   "cell_type": "code",
   "execution_count": null,
   "metadata": {
    "execution": {
     "iopub.execute_input": "2022-05-08T18:45:44.645716Z",
     "iopub.status.busy": "2022-05-08T18:45:44.645535Z",
     "iopub.status.idle": "2022-05-08T18:45:44.665950Z",
     "shell.execute_reply": "2022-05-08T18:45:44.664946Z"
    }
   },
   "outputs": [],
   "source": [
    "book_price_tt = book_price[~book_price.price.isna()]\n",
    "book_price_score = book_price[book_price.price.isna()]\n",
    "\n",
    "X_train, X_test, y_train, y_test = train_test_split(\n",
    "    book_price_tt.drop([\"isbn\", \"price\"], axis=1),\n",
    "    book_price_tt.price,\n",
    "    test_size=0.2,\n",
    "    random_state=42,\n",
    ")"
   ]
  },
  {
   "cell_type": "code",
   "execution_count": null,
   "metadata": {
    "execution": {
     "iopub.execute_input": "2022-05-08T18:45:44.670666Z",
     "iopub.status.busy": "2022-05-08T18:45:44.670158Z",
     "iopub.status.idle": "2022-05-08T18:45:44.676368Z",
     "shell.execute_reply": "2022-05-08T18:45:44.675630Z"
    }
   },
   "outputs": [],
   "source": [
    "# validation baseline - predict mean of training label everywhere\n",
    "mean_price = y_train.mean()\n",
    "print(\n",
    "    f\"mean age       = {mean_price}\\n\"\n",
    "    + f\"baseline error = {mean_squared_error(y_test, np.repeat(mean_price, y_test.shape[0]), squared=False)}\"\n",
    ")"
   ]
  },
  {
   "cell_type": "code",
   "execution_count": null,
   "metadata": {
    "execution": {
     "iopub.execute_input": "2022-05-08T18:45:44.678824Z",
     "iopub.status.busy": "2022-05-08T18:45:44.678645Z",
     "iopub.status.idle": "2022-05-08T18:45:50.871597Z",
     "shell.execute_reply": "2022-05-08T18:45:50.870918Z"
    }
   },
   "outputs": [],
   "source": [
    "model = RandomForestRegressor(min_samples_split=5)\n",
    "model.fit(X_train, y_train)\n",
    "\n",
    "# it's not much, but at least a bit better :D\n",
    "print(\n",
    "    f\"train RMSE = {mean_squared_error(y_train, model.predict(X_train), squared=False)}\\n\"\n",
    "    + f\"valid RMSE = {mean_squared_error(y_test,  model.predict(X_test), squared=False)}\"\n",
    ")"
   ]
  },
  {
   "cell_type": "code",
   "execution_count": null,
   "metadata": {
    "execution": {
     "iopub.execute_input": "2022-05-08T18:45:50.874516Z",
     "iopub.status.busy": "2022-05-08T18:45:50.874344Z",
     "iopub.status.idle": "2022-05-08T18:45:51.074035Z",
     "shell.execute_reply": "2022-05-08T18:45:51.072656Z"
    }
   },
   "outputs": [],
   "source": [
    "plt.scatter(y_test, model.predict(X_test))\n",
    "plt.plot(np.arange(120), np.arange(120), color=\"orange\")"
   ]
  },
  {
   "cell_type": "code",
   "execution_count": null,
   "metadata": {
    "execution": {
     "iopub.execute_input": "2022-05-08T18:45:51.078339Z",
     "iopub.status.busy": "2022-05-08T18:45:51.077729Z",
     "iopub.status.idle": "2022-05-08T18:45:51.142381Z",
     "shell.execute_reply": "2022-05-08T18:45:51.141503Z"
    }
   },
   "outputs": [],
   "source": [
    "book_price_score = book_price_score.assign(\n",
    "    price=model.predict(book_price_score.drop([\"isbn\", \"price\"], axis=1))\n",
    ")\n",
    "\n",
    "# distribution of predicted prices\n",
    "book_price_score.price.describe()"
   ]
  },
  {
   "cell_type": "code",
   "execution_count": null,
   "metadata": {
    "execution": {
     "iopub.execute_input": "2022-05-08T18:45:51.146026Z",
     "iopub.status.busy": "2022-05-08T18:45:51.145820Z",
     "iopub.status.idle": "2022-05-08T18:45:51.160276Z",
     "shell.execute_reply": "2022-05-08T18:45:51.159301Z"
    }
   },
   "outputs": [],
   "source": [
    "book_price = pd.concat([book_price_tt, book_price_score])\n",
    "book_price[[\"isbn\", \"price\"]]"
   ]
  },
  {
   "cell_type": "markdown",
   "metadata": {},
   "source": [
    "#### Save price feature"
   ]
  },
  {
   "cell_type": "code",
   "execution_count": null,
   "metadata": {
    "execution": {
     "iopub.execute_input": "2022-05-08T18:45:51.163633Z",
     "iopub.status.busy": "2022-05-08T18:45:51.162928Z",
     "iopub.status.idle": "2022-05-08T18:45:51.209497Z",
     "shell.execute_reply": "2022-05-08T18:45:51.208552Z"
    }
   },
   "outputs": [],
   "source": [
    "book_price[[\"isbn\", \"price\"]].to_csv(f\"{FEAT_FOLDER}book_price.csv\", index=False)"
   ]
  }
 ],
 "metadata": {
  "interpreter": {
   "hash": "c4d660e557e8b16ee4db5b68978562a6a0421a7ea0c415df0b2c7083e8bde969"
  },
  "kernelspec": {
   "display_name": "Python 3.8.10 ('mlprague')",
   "language": "python",
   "name": "python3"
  },
  "language_info": {
   "codemirror_mode": {
    "name": "ipython",
    "version": 3
   },
   "file_extension": ".py",
   "mimetype": "text/x-python",
   "name": "python",
   "nbconvert_exporter": "python",
   "pygments_lexer": "ipython3",
   "version": "3.8.10"
  }
 },
 "nbformat": 4,
 "nbformat_minor": 2
}
