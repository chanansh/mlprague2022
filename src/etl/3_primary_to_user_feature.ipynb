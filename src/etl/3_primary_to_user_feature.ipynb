{
 "cells": [
  {
   "cell_type": "code",
   "execution_count": null,
   "metadata": {
    "execution": {
     "iopub.execute_input": "2022-05-08T18:45:53.573439Z",
     "iopub.status.busy": "2022-05-08T18:45:53.572162Z",
     "iopub.status.idle": "2022-05-08T18:45:54.917797Z",
     "shell.execute_reply": "2022-05-08T18:45:54.916998Z"
    }
   },
   "outputs": [],
   "source": [
    "import os\n",
    "\n",
    "import matplotlib.pyplot as plt\n",
    "import numpy as np\n",
    "import pandas as pd\n",
    "from sklearn.ensemble import RandomForestRegressor\n",
    "from sklearn.metrics import mean_squared_error\n",
    "from sklearn.model_selection import train_test_split\n",
    "\n",
    "# move wd to the project root\n",
    "os.chdir(\"../../\")\n",
    "\n",
    "PRIM_FOLDER = \"data/2_primary/\"\n",
    "FEAT_FOLDER = \"data/3_feature/\"\n",
    "\n",
    "os.makedirs(FEAT_FOLDER, exist_ok=True)"
   ]
  },
  {
   "cell_type": "code",
   "execution_count": null,
   "metadata": {
    "execution": {
     "iopub.execute_input": "2022-05-08T18:45:54.921308Z",
     "iopub.status.busy": "2022-05-08T18:45:54.921075Z",
     "iopub.status.idle": "2022-05-08T18:45:55.222101Z",
     "shell.execute_reply": "2022-05-08T18:45:55.221371Z"
    }
   },
   "outputs": [],
   "source": [
    "ratings = pd.read_csv(f\"{PRIM_FOLDER}ratings.csv\")\n",
    "users = pd.read_csv(f\"{PRIM_FOLDER}users.csv\")"
   ]
  },
  {
   "cell_type": "markdown",
   "metadata": {},
   "source": [
    "## Prepare user preferred tag features\n",
    "----"
   ]
  },
  {
   "cell_type": "markdown",
   "metadata": {},
   "source": [
    "#### Combine book tags and user ratings"
   ]
  },
  {
   "cell_type": "code",
   "execution_count": null,
   "metadata": {
    "execution": {
     "iopub.execute_input": "2022-05-08T18:45:55.225404Z",
     "iopub.status.busy": "2022-05-08T18:45:55.225008Z",
     "iopub.status.idle": "2022-05-08T18:45:55.287880Z",
     "shell.execute_reply": "2022-05-08T18:45:55.287095Z"
    }
   },
   "outputs": [],
   "source": [
    "book_tags = pd.read_csv(f\"{FEAT_FOLDER}book_tags.csv\")"
   ]
  },
  {
   "cell_type": "code",
   "execution_count": null,
   "metadata": {
    "execution": {
     "iopub.execute_input": "2022-05-08T18:45:55.290605Z",
     "iopub.status.busy": "2022-05-08T18:45:55.290388Z",
     "iopub.status.idle": "2022-05-08T18:45:55.494207Z",
     "shell.execute_reply": "2022-05-08T18:45:55.493087Z"
    }
   },
   "outputs": [],
   "source": [
    "user_ratings = ratings.merge(book_tags, how=\"left\", on=\"isbn\")\n",
    "user_ratings"
   ]
  },
  {
   "cell_type": "code",
   "execution_count": null,
   "metadata": {
    "execution": {
     "iopub.execute_input": "2022-05-08T18:45:55.516709Z",
     "iopub.status.busy": "2022-05-08T18:45:55.516361Z",
     "iopub.status.idle": "2022-05-08T18:45:55.567327Z",
     "shell.execute_reply": "2022-05-08T18:45:55.566338Z"
    }
   },
   "outputs": [],
   "source": [
    "# no NaN\n",
    "user_ratings.isna().sum().sum()"
   ]
  },
  {
   "cell_type": "markdown",
   "metadata": {},
   "source": [
    "#### Calculate how many times did user rate books with specific tag"
   ]
  },
  {
   "cell_type": "code",
   "execution_count": null,
   "metadata": {
    "execution": {
     "iopub.execute_input": "2022-05-08T18:45:55.571129Z",
     "iopub.status.busy": "2022-05-08T18:45:55.570283Z",
     "iopub.status.idle": "2022-05-08T18:45:59.467083Z",
     "shell.execute_reply": "2022-05-08T18:45:59.466257Z"
    }
   },
   "outputs": [],
   "source": [
    "user_tags_cnt = (\n",
    "    user_ratings.melt([\"user_id\", \"isbn\", \"book_rating\"], var_name=\"tag\")\n",
    "    .groupby([\"user_id\", \"tag\"], as_index=False)\n",
    "    .value.sum()\n",
    ")"
   ]
  },
  {
   "cell_type": "code",
   "execution_count": null,
   "metadata": {
    "execution": {
     "iopub.execute_input": "2022-05-08T18:45:59.471499Z",
     "iopub.status.busy": "2022-05-08T18:45:59.471064Z",
     "iopub.status.idle": "2022-05-08T18:45:59.837925Z",
     "shell.execute_reply": "2022-05-08T18:45:59.836952Z"
    }
   },
   "outputs": [],
   "source": [
    "top_n = 500\n",
    "\n",
    "# somebody reads a lot of similar books\n",
    "plt.scatter(\n",
    "    x=np.arange(top_n),\n",
    "    y=user_tags_cnt.sort_values(\"value\", ascending=False).value[:top_n],\n",
    ")"
   ]
  },
  {
   "cell_type": "code",
   "execution_count": null,
   "metadata": {
    "execution": {
     "iopub.execute_input": "2022-05-08T18:45:59.841372Z",
     "iopub.status.busy": "2022-05-08T18:45:59.840888Z",
     "iopub.status.idle": "2022-05-08T18:45:59.863903Z",
     "shell.execute_reply": "2022-05-08T18:45:59.862891Z"
    }
   },
   "outputs": [],
   "source": [
    "user_tags_cnt.user_id.nunique()"
   ]
  },
  {
   "cell_type": "markdown",
   "metadata": {},
   "source": [
    "####  Create user tags feature group"
   ]
  },
  {
   "cell_type": "code",
   "execution_count": null,
   "metadata": {
    "execution": {
     "iopub.execute_input": "2022-05-08T18:45:59.867929Z",
     "iopub.status.busy": "2022-05-08T18:45:59.867087Z",
     "iopub.status.idle": "2022-05-08T18:46:00.677985Z",
     "shell.execute_reply": "2022-05-08T18:46:00.677296Z"
    }
   },
   "outputs": [],
   "source": [
    "users_tag = user_tags_cnt.pivot_table(\n",
    "    index=\"user_id\", columns=\"tag\", values=\"value\", fill_value=0\n",
    ").reset_index()\n",
    "users_tag"
   ]
  },
  {
   "cell_type": "code",
   "execution_count": null,
   "metadata": {
    "execution": {
     "iopub.execute_input": "2022-05-08T18:46:00.681499Z",
     "iopub.status.busy": "2022-05-08T18:46:00.681275Z",
     "iopub.status.idle": "2022-05-08T18:46:00.971541Z",
     "shell.execute_reply": "2022-05-08T18:46:00.970913Z"
    }
   },
   "outputs": [],
   "source": [
    "users_tag.to_csv(f\"{FEAT_FOLDER}user_tags.csv\", index=False)"
   ]
  },
  {
   "cell_type": "markdown",
   "metadata": {},
   "source": [
    "## Prepare user favoutre books \n",
    "----"
   ]
  },
  {
   "cell_type": "code",
   "execution_count": null,
   "metadata": {
    "execution": {
     "iopub.execute_input": "2022-05-08T18:46:00.974352Z",
     "iopub.status.busy": "2022-05-08T18:46:00.974173Z",
     "iopub.status.idle": "2022-05-08T18:46:00.987859Z",
     "shell.execute_reply": "2022-05-08T18:46:00.987163Z"
    }
   },
   "outputs": [],
   "source": [
    "ratings.book_rating.describe()"
   ]
  },
  {
   "cell_type": "code",
   "execution_count": null,
   "metadata": {
    "execution": {
     "iopub.execute_input": "2022-05-08T18:46:00.990816Z",
     "iopub.status.busy": "2022-05-08T18:46:00.990633Z",
     "iopub.status.idle": "2022-05-08T18:46:01.097258Z",
     "shell.execute_reply": "2022-05-08T18:46:01.096433Z"
    }
   },
   "outputs": [],
   "source": [
    "display(ratings.book_rating.value_counts())\n",
    "ratings.book_rating.hist()"
   ]
  },
  {
   "cell_type": "code",
   "execution_count": null,
   "metadata": {
    "execution": {
     "iopub.execute_input": "2022-05-08T18:46:01.100945Z",
     "iopub.status.busy": "2022-05-08T18:46:01.100585Z",
     "iopub.status.idle": "2022-05-08T18:46:01.121877Z",
     "shell.execute_reply": "2022-05-08T18:46:01.120827Z"
    }
   },
   "outputs": [],
   "source": [
    "user_favourite = ratings.assign(rating=(ratings.book_rating > 5).astype(\"int\")).drop(\n",
    "    \"book_rating\", axis=1\n",
    ")\n",
    "user_favourite"
   ]
  },
  {
   "cell_type": "code",
   "execution_count": null,
   "metadata": {
    "execution": {
     "iopub.execute_input": "2022-05-08T18:46:01.124637Z",
     "iopub.status.busy": "2022-05-08T18:46:01.124432Z",
     "iopub.status.idle": "2022-05-08T18:46:01.186756Z",
     "shell.execute_reply": "2022-05-08T18:46:01.185746Z"
    }
   },
   "outputs": [],
   "source": [
    "# count of good ratings per book\n",
    "user_favourite.groupby(\"isbn\").rating.sum().describe()"
   ]
  },
  {
   "cell_type": "code",
   "execution_count": null,
   "metadata": {
    "execution": {
     "iopub.execute_input": "2022-05-08T18:46:01.191987Z",
     "iopub.status.busy": "2022-05-08T18:46:01.191115Z",
     "iopub.status.idle": "2022-05-08T18:46:01.617006Z",
     "shell.execute_reply": "2022-05-08T18:46:01.615656Z"
    }
   },
   "outputs": [],
   "source": [
    "user_favourite.to_csv(f\"{FEAT_FOLDER}user_favourite.csv\", index=False)"
   ]
  },
  {
   "cell_type": "markdown",
   "metadata": {},
   "source": [
    "## Prepare user location features\n",
    "----"
   ]
  },
  {
   "cell_type": "code",
   "execution_count": null,
   "metadata": {
    "execution": {
     "iopub.execute_input": "2022-05-08T18:46:01.621166Z",
     "iopub.status.busy": "2022-05-08T18:46:01.620593Z",
     "iopub.status.idle": "2022-05-08T18:46:01.633361Z",
     "shell.execute_reply": "2022-05-08T18:46:01.632311Z"
    }
   },
   "outputs": [],
   "source": [
    "users"
   ]
  },
  {
   "cell_type": "markdown",
   "metadata": {},
   "source": [
    "#### Check frequency of full locations"
   ]
  },
  {
   "cell_type": "code",
   "execution_count": null,
   "metadata": {
    "execution": {
     "iopub.execute_input": "2022-05-08T18:46:01.636568Z",
     "iopub.status.busy": "2022-05-08T18:46:01.636262Z",
     "iopub.status.idle": "2022-05-08T18:46:01.769786Z",
     "shell.execute_reply": "2022-05-08T18:46:01.768604Z"
    }
   },
   "outputs": [],
   "source": [
    "locations = users.value_counts(\"location\")\n",
    "\n",
    "# top 50 most frequent location cover only ~ 16 % of records\n",
    "print(\"Top 50 locations coverage = \" + str(locations.iloc[:50].sum() / locations.sum()))\n",
    "\n",
    "# there is over 57 000 unique locations for 278 000 users\n",
    "locations"
   ]
  },
  {
   "cell_type": "markdown",
   "metadata": {},
   "source": [
    "#### Try splitting the location into parts (~ city, region, country)"
   ]
  },
  {
   "cell_type": "code",
   "execution_count": null,
   "metadata": {
    "execution": {
     "iopub.execute_input": "2022-05-08T18:46:01.773357Z",
     "iopub.status.busy": "2022-05-08T18:46:01.773097Z",
     "iopub.status.idle": "2022-05-08T18:46:02.609116Z",
     "shell.execute_reply": "2022-05-08T18:46:02.608492Z"
    }
   },
   "outputs": [],
   "source": [
    "users_loc = (\n",
    "    users.assign(loc_part=users.location.str.split(\", \"))\n",
    "    .loc[:, [\"user_id\", \"loc_part\"]]\n",
    "    .explode(\"loc_part\")\n",
    ")\n",
    "\n",
    "top_50_loc = users_loc.value_counts(\"loc_part\").iloc[:50]\n",
    "users_loc_top = users_loc[users_loc.loc_part.isin(top_50_loc.index)]\n",
    "\n",
    "# top 50 partial locations, we can cover 92 % of all users\n",
    "print(users_loc_top.user_id.nunique() / users.shape[0])"
   ]
  },
  {
   "cell_type": "code",
   "execution_count": null,
   "metadata": {
    "execution": {
     "iopub.execute_input": "2022-05-08T18:46:02.611884Z",
     "iopub.status.busy": "2022-05-08T18:46:02.611333Z",
     "iopub.status.idle": "2022-05-08T18:46:02.697427Z",
     "shell.execute_reply": "2022-05-08T18:46:02.696264Z"
    }
   },
   "outputs": [],
   "source": [
    "# USA is used in ~ 140 000 cases\n",
    "plt.scatter(x=np.arange(top_50_loc.shape[0]), y=top_50_loc)\n",
    "\n",
    "top_50_loc.head()"
   ]
  },
  {
   "cell_type": "markdown",
   "metadata": {},
   "source": [
    "#### Merge locations back to the users"
   ]
  },
  {
   "cell_type": "code",
   "execution_count": null,
   "metadata": {
    "execution": {
     "iopub.execute_input": "2022-05-08T18:46:02.700106Z",
     "iopub.status.busy": "2022-05-08T18:46:02.699645Z",
     "iopub.status.idle": "2022-05-08T18:46:04.745179Z",
     "shell.execute_reply": "2022-05-08T18:46:04.744446Z"
    }
   },
   "outputs": [],
   "source": [
    "locations = (\n",
    "    users_loc_top.assign(help=1)\n",
    "    .pivot_table(index=\"user_id\", columns=\"loc_part\", values=\"help\", fill_value=0)\n",
    "    .reset_index()\n",
    "    .drop(\",\", axis=1)\n",
    ")\n",
    "\n",
    "fill_cols = locations.columns[1:]\n",
    "\n",
    "users_location = users.drop([\"location\", \"age\"], axis=1).merge(\n",
    "    locations, how=\"left\", on=\"user_id\"\n",
    ")\n",
    "users_location[fill_cols] = users_location[fill_cols].fillna(value=0)"
   ]
  },
  {
   "cell_type": "markdown",
   "metadata": {},
   "source": [
    "#### Check how many tags we have for each user"
   ]
  },
  {
   "cell_type": "code",
   "execution_count": null,
   "metadata": {
    "execution": {
     "iopub.execute_input": "2022-05-08T18:46:04.749522Z",
     "iopub.status.busy": "2022-05-08T18:46:04.749049Z",
     "iopub.status.idle": "2022-05-08T18:46:04.933483Z",
     "shell.execute_reply": "2022-05-08T18:46:04.932316Z"
    }
   },
   "outputs": [],
   "source": [
    "# we have location for majority of users\n",
    "per_user_location = users_location.iloc[:, 1:].sum(axis=1)\n",
    "\n",
    "print(\"users without location = \" + str((per_user_location == 0).sum()))\n",
    "\n",
    "per_user_location.describe()"
   ]
  },
  {
   "cell_type": "markdown",
   "metadata": {},
   "source": [
    "#### Save location feature group"
   ]
  },
  {
   "cell_type": "code",
   "execution_count": null,
   "metadata": {
    "execution": {
     "iopub.execute_input": "2022-05-08T18:46:04.938450Z",
     "iopub.status.busy": "2022-05-08T18:46:04.937184Z",
     "iopub.status.idle": "2022-05-08T18:46:10.174826Z",
     "shell.execute_reply": "2022-05-08T18:46:10.174025Z"
    }
   },
   "outputs": [],
   "source": [
    "users_location.to_csv(f\"{FEAT_FOLDER}user_locations.csv\", index=False)"
   ]
  },
  {
   "cell_type": "markdown",
   "metadata": {},
   "source": [
    "## Review user age\n",
    "----"
   ]
  },
  {
   "cell_type": "code",
   "execution_count": null,
   "metadata": {
    "execution": {
     "iopub.execute_input": "2022-05-08T18:46:10.178426Z",
     "iopub.status.busy": "2022-05-08T18:46:10.178245Z",
     "iopub.status.idle": "2022-05-08T18:46:10.184128Z",
     "shell.execute_reply": "2022-05-08T18:46:10.183410Z"
    }
   },
   "outputs": [],
   "source": [
    "users_age = users[[\"user_id\", \"age\"]]"
   ]
  },
  {
   "cell_type": "code",
   "execution_count": null,
   "metadata": {
    "execution": {
     "iopub.execute_input": "2022-05-08T18:46:10.186715Z",
     "iopub.status.busy": "2022-05-08T18:46:10.186559Z",
     "iopub.status.idle": "2022-05-08T18:46:10.594613Z",
     "shell.execute_reply": "2022-05-08T18:46:10.593164Z"
    }
   },
   "outputs": [],
   "source": [
    "plt.scatter(np.arange(users_age.shape[0]), users_age.age.sort_values())"
   ]
  },
  {
   "cell_type": "code",
   "execution_count": null,
   "metadata": {
    "execution": {
     "iopub.execute_input": "2022-05-08T18:46:10.597920Z",
     "iopub.status.busy": "2022-05-08T18:46:10.597447Z",
     "iopub.status.idle": "2022-05-08T18:46:10.604968Z",
     "shell.execute_reply": "2022-05-08T18:46:10.604372Z"
    }
   },
   "outputs": [],
   "source": [
    "# This should be NaN as well\n",
    "# Unless we have a lot of genious babies\n",
    "users_age.age[users_age.age == 0]"
   ]
  },
  {
   "cell_type": "code",
   "execution_count": null,
   "metadata": {
    "execution": {
     "iopub.execute_input": "2022-05-08T18:46:10.607720Z",
     "iopub.status.busy": "2022-05-08T18:46:10.607520Z",
     "iopub.status.idle": "2022-05-08T18:46:10.614497Z",
     "shell.execute_reply": "2022-05-08T18:46:10.613635Z"
    }
   },
   "outputs": [],
   "source": [
    "# This should be NaN as well\n",
    "# Oldest living person = 122 (https://en.wikipedia.org/wiki/List_of_the_verified_oldest_people)\n",
    "users_age.age[users_age.age > 122]"
   ]
  },
  {
   "cell_type": "code",
   "execution_count": null,
   "metadata": {
    "execution": {
     "iopub.execute_input": "2022-05-08T18:46:10.616980Z",
     "iopub.status.busy": "2022-05-08T18:46:10.616810Z",
     "iopub.status.idle": "2022-05-08T18:46:10.645019Z",
     "shell.execute_reply": "2022-05-08T18:46:10.643980Z"
    }
   },
   "outputs": [],
   "source": [
    "users_age = users_age.assign(\n",
    "    age=np.where(users_age.age.between(1, 122), users_age.age, np.nan)\n",
    ")\n",
    "users_age.age.describe()"
   ]
  },
  {
   "cell_type": "code",
   "execution_count": null,
   "metadata": {
    "execution": {
     "iopub.execute_input": "2022-05-08T18:46:10.648053Z",
     "iopub.status.busy": "2022-05-08T18:46:10.647151Z",
     "iopub.status.idle": "2022-05-08T18:46:10.981560Z",
     "shell.execute_reply": "2022-05-08T18:46:10.980503Z"
    }
   },
   "outputs": [],
   "source": [
    "# keep only users that rated at least one book (those that are in users_tag)\n",
    "users_age = users_age.merge(users_location, how=\"inner\", on=\"user_id\").merge(\n",
    "    users_tag, how=\"inner\", on=\"user_id\"\n",
    ")\n",
    "users_age"
   ]
  },
  {
   "cell_type": "markdown",
   "metadata": {},
   "source": [
    "#### Let's build a model to imput the NaNs"
   ]
  },
  {
   "cell_type": "code",
   "execution_count": null,
   "metadata": {
    "execution": {
     "iopub.execute_input": "2022-05-08T18:46:10.985728Z",
     "iopub.status.busy": "2022-05-08T18:46:10.984839Z",
     "iopub.status.idle": "2022-05-08T18:46:11.030626Z",
     "shell.execute_reply": "2022-05-08T18:46:11.029838Z"
    }
   },
   "outputs": [],
   "source": [
    "users_age_tt = users_age[~users_age.age.isna()]\n",
    "users_age_score = users_age[users_age.age.isna()]\n",
    "\n",
    "X_train, X_test, y_train, y_test = train_test_split(\n",
    "    users_age_tt.iloc[:, 2:], users_age_tt.age, test_size=0.2, random_state=42\n",
    ")"
   ]
  },
  {
   "cell_type": "code",
   "execution_count": null,
   "metadata": {
    "execution": {
     "iopub.execute_input": "2022-05-08T18:46:11.033390Z",
     "iopub.status.busy": "2022-05-08T18:46:11.033219Z",
     "iopub.status.idle": "2022-05-08T18:46:11.118528Z",
     "shell.execute_reply": "2022-05-08T18:46:11.117721Z"
    }
   },
   "outputs": [],
   "source": [
    "users_age_tt.age.hist()"
   ]
  },
  {
   "cell_type": "code",
   "execution_count": null,
   "metadata": {
    "execution": {
     "iopub.execute_input": "2022-05-08T18:46:11.120813Z",
     "iopub.status.busy": "2022-05-08T18:46:11.120625Z",
     "iopub.status.idle": "2022-05-08T18:46:11.126563Z",
     "shell.execute_reply": "2022-05-08T18:46:11.125655Z"
    }
   },
   "outputs": [],
   "source": [
    "# validation baseline - predict mean of training label everywhere\n",
    "mean_age = y_train.mean()\n",
    "print(\n",
    "    f\"mean age       = {mean_age}\\n\"\n",
    "    + f\"baseline error = {mean_squared_error(y_test, np.repeat(mean_age, y_test.shape[0]), squared=False)}\"\n",
    ")"
   ]
  },
  {
   "cell_type": "code",
   "execution_count": null,
   "metadata": {
    "execution": {
     "iopub.execute_input": "2022-05-08T18:46:11.129122Z",
     "iopub.status.busy": "2022-05-08T18:46:11.128938Z",
     "iopub.status.idle": "2022-05-08T18:46:24.070748Z",
     "shell.execute_reply": "2022-05-08T18:46:24.070044Z"
    }
   },
   "outputs": [],
   "source": [
    "model = RandomForestRegressor(min_samples_split=80)\n",
    "model.fit(X_train, y_train)\n",
    "\n",
    "# it's not much, but at least a bit better :D\n",
    "print(\n",
    "    f\"train RMSE = {mean_squared_error(y_train, model.predict(X_train), squared=False)}\\n\"\n",
    "    + f\"valid RMSE = {mean_squared_error(y_test,  model.predict(X_test), squared=False)}\"\n",
    ")"
   ]
  },
  {
   "cell_type": "code",
   "execution_count": null,
   "metadata": {
    "execution": {
     "iopub.execute_input": "2022-05-08T18:46:24.074134Z",
     "iopub.status.busy": "2022-05-08T18:46:24.073026Z",
     "iopub.status.idle": "2022-05-08T18:46:24.240860Z",
     "shell.execute_reply": "2022-05-08T18:46:24.240086Z"
    }
   },
   "outputs": [],
   "source": [
    "plt.scatter(y_test, model.predict(X_test))\n",
    "plt.plot(np.arange(120), np.arange(120), color=\"orange\")"
   ]
  },
  {
   "cell_type": "code",
   "execution_count": null,
   "metadata": {
    "execution": {
     "iopub.execute_input": "2022-05-08T18:46:24.243747Z",
     "iopub.status.busy": "2022-05-08T18:46:24.243289Z",
     "iopub.status.idle": "2022-05-08T18:46:24.533452Z",
     "shell.execute_reply": "2022-05-08T18:46:24.532683Z"
    }
   },
   "outputs": [],
   "source": [
    "users_age_score = users_age_score.assign(age=model.predict(users_age_score.iloc[:, 2:]))\n",
    "\n",
    "# very close to predicting the mean everywhere\n",
    "users_age_score.age.describe()"
   ]
  },
  {
   "cell_type": "code",
   "execution_count": null,
   "metadata": {
    "execution": {
     "iopub.execute_input": "2022-05-08T18:46:24.536848Z",
     "iopub.status.busy": "2022-05-08T18:46:24.536030Z",
     "iopub.status.idle": "2022-05-08T18:46:24.560660Z",
     "shell.execute_reply": "2022-05-08T18:46:24.559717Z"
    }
   },
   "outputs": [],
   "source": [
    "users_age = pd.concat([users_age_tt, users_age_score])\n",
    "users_age.age.describe()"
   ]
  },
  {
   "cell_type": "markdown",
   "metadata": {},
   "source": [
    "#### Save age feature"
   ]
  },
  {
   "cell_type": "code",
   "execution_count": null,
   "metadata": {
    "execution": {
     "iopub.execute_input": "2022-05-08T18:46:24.563962Z",
     "iopub.status.busy": "2022-05-08T18:46:24.563585Z",
     "iopub.status.idle": "2022-05-08T18:46:24.648306Z",
     "shell.execute_reply": "2022-05-08T18:46:24.647634Z"
    }
   },
   "outputs": [],
   "source": [
    "users_age.loc[:, [\"user_id\", \"age\"]].to_csv(f\"{FEAT_FOLDER}user_age.csv\", index=False)"
   ]
  }
 ],
 "metadata": {
  "interpreter": {
   "hash": "c4d660e557e8b16ee4db5b68978562a6a0421a7ea0c415df0b2c7083e8bde969"
  },
  "kernelspec": {
   "display_name": "Python 3.8.10 ('mlprague')",
   "language": "python",
   "name": "python3"
  },
  "language_info": {
   "codemirror_mode": {
    "name": "ipython",
    "version": 3
   },
   "file_extension": ".py",
   "mimetype": "text/x-python",
   "name": "python",
   "nbconvert_exporter": "python",
   "pygments_lexer": "ipython3",
   "version": "3.8.10"
  }
 },
 "nbformat": 4,
 "nbformat_minor": 2
}
